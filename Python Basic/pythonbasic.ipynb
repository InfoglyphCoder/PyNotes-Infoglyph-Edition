{
 "cells": [
  {
   "cell_type": "markdown",
   "metadata": {},
   "source": [
    "<div style=\"display: flex; justify-content: left; align-items: left; gap: 20px;\">\n",
    "<img src=\"https://i.pinimg.com/736x/d5/1b/d4/d51bd4aaf6842d24229aded3185d495a.jpg\" alt=\"Right Image\" width=\"50\" />\n",
    "<img src=\"https://see.fontimg.com/api/rf5/2ORlw/NjZiOTlmNTc1N2NiNGRmZTk0N2YwZDY2NTNjZWI2ODEudHRm/aW5mb2dseXBo/the-globe-personal-use-bold.png?r=fs&h=54&w=1250&fg=14FFDC&bg=FFFFFF&tb=1&s=43\" alt=\"Left Image\" width=\"200\" />\n",
    "\n",
    "</div>\n",
    "\n"
   ]
  },
  {
   "cell_type": "markdown",
   "metadata": {},
   "source": [
    "<div style=\"display: flex; justify-content: space-between 20 ;\">\n",
    "  <img src=\"https://upload.wikimedia.org/wikipedia/commons/thumb/0/0a/Python.svg/1200px-Python.svg.png\" alt=\"Python Logo\" width=\"10%\" />\n",
    "  <img src=\"https://see.fontimg.com/api/rf5/eZ5wg/NmYzMzYyNTBjNjA4NGViMmE0MzQ0N2Y3MjhiYjQ1N2Uub3Rm/UHl0aG9uIEdldHRpbmcgU3RhcnRlZA/dashhorizon.png?r=fs&h=48&w=1250&fg=E9970D&bg=FFFFFF&tb=1&s=38\" alt=\"Text Image\" width=\"30%\" />\n",
    "</div>\n"
   ]
  },
  {
   "cell_type": "markdown",
   "metadata": {},
   "source": [
    "Socho tumhare paas ek aisi magic language ho jo tumhe computer ko bolne de ki wo kya kare. Python waise hi hai! Ye ek simple aur powerful language hai jise tum computer ko instructions dene ke liye use karte ho. Iska sabse bada advantage hai ki isko padhna aur samajhna bahut easy hai, kyunki iska syntax (code likhne ka tarika) bilkul English ki tarah hota hai. Iska matlab hai ki agar tumhe English padhni aati hai, toh Python ka code samajhna bhi asaan hoga!"
   ]
  },
  {
   "cell_type": "markdown",
   "metadata": {},
   "source": [
    " > Jaise agar tumhe computer se \"Hello, World!\" screen par likhwani ho, toh tum aise likhoge"
   ]
  },
  {
   "cell_type": "markdown",
   "metadata": {},
   "source": [
    "![Hello World Image](https://media.geeksforgeeks.org/wp-content/uploads/20241128165040532196/print-hello-world.webp)"
   ]
  },
  {
   "cell_type": "code",
   "execution_count": 1,
   "metadata": {},
   "outputs": [
    {
     "name": "stdout",
     "output_type": "stream",
     "text": [
      "Hello, World!\n"
     ]
    }
   ],
   "source": [
    "print(\"Hello, World!\")"
   ]
  },
  {
   "cell_type": "markdown",
   "metadata": {},
   "source": [
    "Dekha? Kitna asaan hai! Python beginners ke liye perfect hai kyunki ye straight-forward hai aur tumhe apna idea jaldi se implement karne ka moka deta hai."
   ]
  },
  {
   "cell_type": "markdown",
   "metadata": {},
   "source": [
    "print() Python mein ek built-in function hai jo kisi bhi cheez ko console ya screen par display karne ke liye use hota hai. Matlab, jab tum print() function ko call karte ho, jo bhi tum usme likhte ho, wo screen par show ho jata hai."
   ]
  },
  {
   "cell_type": "markdown",
   "metadata": {},
   "source": [
    "- **`print()`** function ka kaam sirf output ko display karna hota hai.\n",
    "- Jo bhi cheez `print()` ke andar likhi hoti hai, wo console par print hoti hai.\n",
    "- `print()` ka use mostly debugging aur user ko output dikhane ke liye hota hai.\n",
    "\n"
   ]
  },
  {
   "cell_type": "code",
   "execution_count": 4,
   "metadata": {},
   "outputs": [
    {
     "name": "stdout",
     "output_type": "stream",
     "text": [
      "Hello, my name is Amit and I am 25 years old.\n"
     ]
    }
   ],
   "source": [
    "name = \"Amit\"\n",
    "age = 25\n",
    "print(\"Hello, my name is\", name, \"and I am\", age, \"years old.\")"
   ]
  },
  {
   "cell_type": "markdown",
   "metadata": {},
   "source": [
    "Is code mein, `print()` function multiple values ko ek saath print karega. Output hoga:\n",
    "\n",
    "Isme, `print()` ne `\"Hello, my name is\"`, `name` (jo `\"Amit\"` hai), `\"and I am\"`, `age` (jo `25` hai), aur `\"years old\"` ko ek saath output diya."
   ]
  },
  {
   "cell_type": "markdown",
   "metadata": {},
   "source": []
  }
 ],
 "metadata": {
  "kernelspec": {
   "display_name": "Python 3",
   "language": "python",
   "name": "python3"
  },
  "language_info": {
   "codemirror_mode": {
    "name": "ipython",
    "version": 3
   },
   "file_extension": ".py",
   "mimetype": "text/x-python",
   "name": "python",
   "nbconvert_exporter": "python",
   "pygments_lexer": "ipython3",
   "version": "3.12.5"
  }
 },
 "nbformat": 4,
 "nbformat_minor": 2
}
